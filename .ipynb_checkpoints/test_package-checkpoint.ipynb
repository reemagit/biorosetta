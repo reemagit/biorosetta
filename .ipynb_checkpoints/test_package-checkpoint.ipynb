{
 "cells": [
  {
   "cell_type": "code",
   "execution_count": 1,
   "id": "4f656123",
   "metadata": {
    "ExecuteTime": {
     "end_time": "2023-02-20T20:59:21.272164Z",
     "start_time": "2023-02-20T20:59:20.129336Z"
    }
   },
   "outputs": [
    {
     "name": "stderr",
     "output_type": "stream",
     "text": [
      "/var/folders/m7/zm8cz6t57dx2yksvbbs0zlh40000gp/T/ipykernel_77204/946225836.py:5: DeprecationWarning: Importing display from IPython.core.display is deprecated since IPython 7.14, please import from IPython display\n",
      "  from IPython.core.display import display, HTML\n"
     ]
    },
    {
     "data": {
      "text/html": [
       "<style>.container { width:100% !important; }</style>"
      ],
      "text/plain": [
       "<IPython.core.display.HTML object>"
      ]
     },
     "metadata": {},
     "output_type": "display_data"
    }
   ],
   "source": [
    "import biorosetta as br\n",
    "import importlib as imp\n",
    "imp.reload(br)\n",
    "import pandas as pd\n",
    "from IPython.core.display import display, HTML\n",
    "display(HTML(\"<style>.container { width:100% !important; }</style>\"))"
   ]
  },
  {
   "cell_type": "code",
   "execution_count": 2,
   "id": "b471e920",
   "metadata": {
    "ExecuteTime": {
     "end_time": "2023-02-20T20:59:24.017436Z",
     "start_time": "2023-02-20T20:59:22.068530Z"
    }
   },
   "outputs": [
    {
     "name": "stdout",
     "output_type": "stream",
     "text": [
      "- Loading lookup tables from cache (use function EnsemblBiomartMapper.download_data() to force new download)\n",
      "- Loading lookup tables from cache (use function EnsemblBiomartMapper.download_data() to force new download)\n",
      "querying 1-10...done.\n"
     ]
    },
    {
     "name": "stderr",
     "output_type": "stream",
     "text": [
      "/Users/reema/Postdoc/Libs/biorosetta/biorosetta/classes.py:344: FutureWarning: In a future version, `df.iloc[:, i] = newvals` will attempt to set the values inplace instead of always setting a new array. To retain the old behavior, use either `df[df.columns[i]] = newvals` or, if columns are non-unique, `df.isetitem(i, newvals)`\n",
      "  out_df.loc[out_df[src_id] != 'N/A', f'{src_id}_hits'] = out_df[src_id].str.split('|').apply(lambda x: len(x))\n",
      "/Users/reema/Postdoc/Libs/biorosetta/biorosetta/classes.py:344: FutureWarning: In a future version, `df.iloc[:, i] = newvals` will attempt to set the values inplace instead of always setting a new array. To retain the old behavior, use either `df[df.columns[i]] = newvals` or, if columns are non-unique, `df.isetitem(i, newvals)`\n",
      "  out_df.loc[out_df[src_id] != 'N/A', f'{src_id}_hits'] = out_df[src_id].str.split('|').apply(lambda x: len(x))\n",
      "/Users/reema/Postdoc/Libs/biorosetta/biorosetta/classes.py:344: FutureWarning: In a future version, `df.iloc[:, i] = newvals` will attempt to set the values inplace instead of always setting a new array. To retain the old behavior, use either `df[df.columns[i]] = newvals` or, if columns are non-unique, `df.isetitem(i, newvals)`\n",
      "  out_df.loc[out_df[src_id] != 'N/A', f'{src_id}_hits'] = out_df[src_id].str.split('|').apply(lambda x: len(x))\n"
     ]
    },
    {
     "data": {
      "text/html": [
       "<div>\n",
       "<style scoped>\n",
       "    .dataframe tbody tr th:only-of-type {\n",
       "        vertical-align: middle;\n",
       "    }\n",
       "\n",
       "    .dataframe tbody tr th {\n",
       "        vertical-align: top;\n",
       "    }\n",
       "\n",
       "    .dataframe thead th {\n",
       "        text-align: right;\n",
       "    }\n",
       "</style>\n",
       "<table border=\"1\" class=\"dataframe\">\n",
       "  <thead>\n",
       "    <tr style=\"text-align: right;\">\n",
       "      <th></th>\n",
       "      <th>input</th>\n",
       "      <th>output</th>\n",
       "      <th>ensembl</th>\n",
       "      <th>hgnc</th>\n",
       "      <th>mygene</th>\n",
       "      <th>mismatch</th>\n",
       "      <th>ensembl_hits</th>\n",
       "      <th>hgnc_hits</th>\n",
       "      <th>mygene_hits</th>\n",
       "    </tr>\n",
       "  </thead>\n",
       "  <tbody>\n",
       "    <tr>\n",
       "      <th>0</th>\n",
       "      <td>1643</td>\n",
       "      <td>DDB2</td>\n",
       "      <td>DDB2</td>\n",
       "      <td>DDB2</td>\n",
       "      <td>DDB2</td>\n",
       "      <td>False</td>\n",
       "      <td>1</td>\n",
       "      <td>1</td>\n",
       "      <td>1</td>\n",
       "    </tr>\n",
       "    <tr>\n",
       "      <th>1</th>\n",
       "      <td>10987</td>\n",
       "      <td>COPS5</td>\n",
       "      <td>COPS5</td>\n",
       "      <td>COPS5</td>\n",
       "      <td>COPS5</td>\n",
       "      <td>False</td>\n",
       "      <td>1</td>\n",
       "      <td>1</td>\n",
       "      <td>1</td>\n",
       "    </tr>\n",
       "    <tr>\n",
       "      <th>2</th>\n",
       "      <td>23369</td>\n",
       "      <td>PUM2</td>\n",
       "      <td>PUM2</td>\n",
       "      <td>PUM2</td>\n",
       "      <td>PUM2</td>\n",
       "      <td>False</td>\n",
       "      <td>1</td>\n",
       "      <td>1</td>\n",
       "      <td>1</td>\n",
       "    </tr>\n",
       "    <tr>\n",
       "      <th>3</th>\n",
       "      <td>1044</td>\n",
       "      <td>CDX1</td>\n",
       "      <td>CDX1</td>\n",
       "      <td>CDX1</td>\n",
       "      <td>CDX1</td>\n",
       "      <td>False</td>\n",
       "      <td>1</td>\n",
       "      <td>1</td>\n",
       "      <td>1</td>\n",
       "    </tr>\n",
       "    <tr>\n",
       "      <th>4</th>\n",
       "      <td>10015</td>\n",
       "      <td>PDCD6IP</td>\n",
       "      <td>PDCD6IP</td>\n",
       "      <td>PDCD6IP</td>\n",
       "      <td>PDCD6IP</td>\n",
       "      <td>False</td>\n",
       "      <td>1</td>\n",
       "      <td>1</td>\n",
       "      <td>1</td>\n",
       "    </tr>\n",
       "    <tr>\n",
       "      <th>5</th>\n",
       "      <td>2185</td>\n",
       "      <td>PTK2B</td>\n",
       "      <td>PTK2B</td>\n",
       "      <td>PTK2B</td>\n",
       "      <td>PTK2B</td>\n",
       "      <td>False</td>\n",
       "      <td>1</td>\n",
       "      <td>1</td>\n",
       "      <td>1</td>\n",
       "    </tr>\n",
       "    <tr>\n",
       "      <th>6</th>\n",
       "      <td>10107</td>\n",
       "      <td>TRIM10</td>\n",
       "      <td>TRIM10</td>\n",
       "      <td>TRIM10</td>\n",
       "      <td>TRIM10</td>\n",
       "      <td>False</td>\n",
       "      <td>1</td>\n",
       "      <td>1</td>\n",
       "      <td>1</td>\n",
       "    </tr>\n",
       "    <tr>\n",
       "      <th>7</th>\n",
       "      <td>3320</td>\n",
       "      <td>HSP90AA1</td>\n",
       "      <td>HSP90AA1</td>\n",
       "      <td>HSP90AA1</td>\n",
       "      <td>HSP90AA1</td>\n",
       "      <td>False</td>\n",
       "      <td>1</td>\n",
       "      <td>1</td>\n",
       "      <td>1</td>\n",
       "    </tr>\n",
       "    <tr>\n",
       "      <th>8</th>\n",
       "      <td>55014</td>\n",
       "      <td>STX17</td>\n",
       "      <td>STX17</td>\n",
       "      <td>STX17</td>\n",
       "      <td>STX17</td>\n",
       "      <td>False</td>\n",
       "      <td>1</td>\n",
       "      <td>1</td>\n",
       "      <td>1</td>\n",
       "    </tr>\n",
       "    <tr>\n",
       "      <th>9</th>\n",
       "      <td>9342</td>\n",
       "      <td>SNAP29</td>\n",
       "      <td>SNAP29</td>\n",
       "      <td>SNAP29</td>\n",
       "      <td>SNAP29</td>\n",
       "      <td>False</td>\n",
       "      <td>1</td>\n",
       "      <td>1</td>\n",
       "      <td>1</td>\n",
       "    </tr>\n",
       "  </tbody>\n",
       "</table>\n",
       "</div>"
      ],
      "text/plain": [
       "   input    output   ensembl      hgnc    mygene  mismatch  ensembl_hits  \\\n",
       "0   1643      DDB2      DDB2      DDB2      DDB2     False             1   \n",
       "1  10987     COPS5     COPS5     COPS5     COPS5     False             1   \n",
       "2  23369      PUM2      PUM2      PUM2      PUM2     False             1   \n",
       "3   1044      CDX1      CDX1      CDX1      CDX1     False             1   \n",
       "4  10015   PDCD6IP   PDCD6IP   PDCD6IP   PDCD6IP     False             1   \n",
       "5   2185     PTK2B     PTK2B     PTK2B     PTK2B     False             1   \n",
       "6  10107    TRIM10    TRIM10    TRIM10    TRIM10     False             1   \n",
       "7   3320  HSP90AA1  HSP90AA1  HSP90AA1  HSP90AA1     False             1   \n",
       "8  55014     STX17     STX17     STX17     STX17     False             1   \n",
       "9   9342    SNAP29    SNAP29    SNAP29    SNAP29     False             1   \n",
       "\n",
       "   hgnc_hits  mygene_hits  \n",
       "0          1            1  \n",
       "1          1            1  \n",
       "2          1            1  \n",
       "3          1            1  \n",
       "4          1            1  \n",
       "5          1            1  \n",
       "6          1            1  \n",
       "7          1            1  \n",
       "8          1            1  \n",
       "9          1            1  "
      ]
     },
     "execution_count": 2,
     "metadata": {},
     "output_type": "execute_result"
    }
   ],
   "source": [
    "gene_list=[1643, 10987, 23369, 1044, 10015, 2185, 10107, 3320, 55014, 9342]\n",
    "idmap = br.IDMapper([br.EnsemblBiomartMapper(),br.HGNCBiomartMapper(),br.MyGeneMapper()]) # Multiple sources\n",
    "idmap.convert(gene_list,'entr','symb',df=True, multi_hits='all')"
   ]
  },
  {
   "cell_type": "code",
   "execution_count": 7,
   "id": "553667a4",
   "metadata": {
    "ExecuteTime": {
     "end_time": "2023-02-20T21:00:25.319808Z",
     "start_time": "2023-02-20T21:00:25.296419Z"
    }
   },
   "outputs": [],
   "source": [
    "gene_list = pd.read_table('/Users/reema/Postdoc/Temp/ENSP_nodes.csv',sep=',').node_name.tolist()"
   ]
  },
  {
   "cell_type": "code",
   "execution_count": 16,
   "id": "5555041c",
   "metadata": {
    "ExecuteTime": {
     "end_time": "2023-02-20T21:01:12.801284Z",
     "start_time": "2023-02-20T21:01:12.771763Z"
    }
   },
   "outputs": [
    {
     "name": "stderr",
     "output_type": "stream",
     "text": [
      "/Users/reema/Postdoc/Libs/biorosetta/biorosetta/classes.py:344: FutureWarning: In a future version, `df.iloc[:, i] = newvals` will attempt to set the values inplace instead of always setting a new array. To retain the old behavior, use either `df[df.columns[i]] = newvals` or, if columns are non-unique, `df.isetitem(i, newvals)`\n",
      "  out_df.loc[out_df[src_id] != 'N/A', f'{src_id}_hits'] = out_df[src_id].str.split('|').apply(lambda x: len(x))\n"
     ]
    },
    {
     "data": {
      "text/html": [
       "<div>\n",
       "<style scoped>\n",
       "    .dataframe tbody tr th:only-of-type {\n",
       "        vertical-align: middle;\n",
       "    }\n",
       "\n",
       "    .dataframe tbody tr th {\n",
       "        vertical-align: top;\n",
       "    }\n",
       "\n",
       "    .dataframe thead th {\n",
       "        text-align: right;\n",
       "    }\n",
       "</style>\n",
       "<table border=\"1\" class=\"dataframe\">\n",
       "  <thead>\n",
       "    <tr style=\"text-align: right;\">\n",
       "      <th></th>\n",
       "      <th>input</th>\n",
       "      <th>output</th>\n",
       "      <th>ensembl</th>\n",
       "      <th>mismatch</th>\n",
       "      <th>ensembl_hits</th>\n",
       "    </tr>\n",
       "  </thead>\n",
       "  <tbody>\n",
       "    <tr>\n",
       "      <th>0</th>\n",
       "      <td>ENSP00000361777</td>\n",
       "      <td>6418</td>\n",
       "      <td>6418</td>\n",
       "      <td>False</td>\n",
       "      <td>1</td>\n",
       "    </tr>\n",
       "    <tr>\n",
       "      <th>1</th>\n",
       "      <td>ENSP00000394352</td>\n",
       "      <td>85458</td>\n",
       "      <td>85458</td>\n",
       "      <td>False</td>\n",
       "      <td>1</td>\n",
       "    </tr>\n",
       "    <tr>\n",
       "      <th>2</th>\n",
       "      <td>ENSP00000450244</td>\n",
       "      <td>8437</td>\n",
       "      <td>8437</td>\n",
       "      <td>False</td>\n",
       "      <td>1</td>\n",
       "    </tr>\n",
       "    <tr>\n",
       "      <th>3</th>\n",
       "      <td>ENSP00000187762</td>\n",
       "      <td>79041</td>\n",
       "      <td>79041</td>\n",
       "      <td>False</td>\n",
       "      <td>1</td>\n",
       "    </tr>\n",
       "    <tr>\n",
       "      <th>4</th>\n",
       "      <td>ENSP00000274712</td>\n",
       "      <td>153527</td>\n",
       "      <td>153527</td>\n",
       "      <td>False</td>\n",
       "      <td>1</td>\n",
       "    </tr>\n",
       "  </tbody>\n",
       "</table>\n",
       "</div>"
      ],
      "text/plain": [
       "             input  output ensembl  mismatch  ensembl_hits\n",
       "0  ENSP00000361777    6418    6418     False             1\n",
       "1  ENSP00000394352   85458   85458     False             1\n",
       "2  ENSP00000450244    8437    8437     False             1\n",
       "3  ENSP00000187762   79041   79041     False             1\n",
       "4  ENSP00000274712  153527  153527     False             1"
      ]
     },
     "execution_count": 16,
     "metadata": {},
     "output_type": "execute_result"
    }
   ],
   "source": [
    "idmap.convert(gene_list[10:1],'ensp','entr',df=True, multi_hits='consensus')"
   ]
  },
  {
   "cell_type": "code",
   "execution_count": null,
   "id": "7e3a59f9",
   "metadata": {},
   "outputs": [],
   "source": []
  }
 ],
 "metadata": {
  "kernelspec": {
   "display_name": "biorosetta",
   "language": "python",
   "name": "biorosetta"
  },
  "language_info": {
   "codemirror_mode": {
    "name": "ipython",
    "version": 3
   },
   "file_extension": ".py",
   "mimetype": "text/x-python",
   "name": "python",
   "nbconvert_exporter": "python",
   "pygments_lexer": "ipython3",
   "version": "3.10.6"
  },
  "toc": {
   "base_numbering": 1,
   "nav_menu": {},
   "number_sections": true,
   "sideBar": true,
   "skip_h1_title": false,
   "title_cell": "Table of Contents",
   "title_sidebar": "Contents",
   "toc_cell": false,
   "toc_position": {},
   "toc_section_display": true,
   "toc_window_display": false
  }
 },
 "nbformat": 4,
 "nbformat_minor": 5
}
