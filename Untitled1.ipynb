{
 "cells": [
  {
   "cell_type": "code",
   "execution_count": 7,
   "id": "669d3a42",
   "metadata": {
    "ExecuteTime": {
     "end_time": "2023-01-17T14:50:16.142136Z",
     "start_time": "2023-01-17T14:50:16.138121Z"
    }
   },
   "outputs": [],
   "source": [
    "import biorosetta as br\n",
    "import importlib as imp\n",
    "imp.reload(br)\n",
    "import pandas as pd"
   ]
  },
  {
   "cell_type": "code",
   "execution_count": 6,
   "id": "9bd905fd",
   "metadata": {
    "ExecuteTime": {
     "end_time": "2023-01-17T14:50:10.510048Z",
     "start_time": "2023-01-17T14:50:10.496317Z"
    }
   },
   "outputs": [
    {
     "ename": "AttributeError",
     "evalue": "module 'biorosetta' has no attribute 'IDMapper'",
     "output_type": "error",
     "traceback": [
      "\u001b[0;31m---------------------------------------------------------------------------\u001b[0m",
      "\u001b[0;31mAttributeError\u001b[0m                            Traceback (most recent call last)",
      "Cell \u001b[0;32mIn[6], line 1\u001b[0m\n\u001b[0;32m----> 1\u001b[0m idm \u001b[38;5;241m=\u001b[39m \u001b[43mbr\u001b[49m\u001b[38;5;241;43m.\u001b[39;49m\u001b[43mIDMapper\u001b[49m(sources)\n",
      "\u001b[0;31mAttributeError\u001b[0m: module 'biorosetta' has no attribute 'IDMapper'"
     ]
    }
   ],
   "source": [
    "idm = br.IDMapper(sources)"
   ]
  },
  {
   "cell_type": "code",
   "execution_count": null,
   "id": "e97b896c",
   "metadata": {},
   "outputs": [],
   "source": []
  }
 ],
 "metadata": {
  "kernelspec": {
   "display_name": "biorosetta",
   "language": "python",
   "name": "biorosetta"
  },
  "language_info": {
   "codemirror_mode": {
    "name": "ipython",
    "version": 3
   },
   "file_extension": ".py",
   "mimetype": "text/x-python",
   "name": "python",
   "nbconvert_exporter": "python",
   "pygments_lexer": "ipython3",
   "version": "3.10.6"
  },
  "toc": {
   "base_numbering": 1,
   "nav_menu": {},
   "number_sections": true,
   "sideBar": true,
   "skip_h1_title": false,
   "title_cell": "Table of Contents",
   "title_sidebar": "Contents",
   "toc_cell": false,
   "toc_position": {},
   "toc_section_display": true,
   "toc_window_display": false
  }
 },
 "nbformat": 4,
 "nbformat_minor": 5
}
