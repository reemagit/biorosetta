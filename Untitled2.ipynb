{
 "cells": [
  {
   "cell_type": "code",
   "execution_count": 1,
   "id": "d2d27768",
   "metadata": {
    "ExecuteTime": {
     "end_time": "2023-02-09T23:05:06.511188Z",
     "start_time": "2023-02-09T23:05:05.481829Z"
    }
   },
   "outputs": [
    {
     "name": "stderr",
     "output_type": "stream",
     "text": [
      "/var/folders/m7/zm8cz6t57dx2yksvbbs0zlh40000gp/T/ipykernel_15079/946225836.py:5: DeprecationWarning: Importing display from IPython.core.display is deprecated since IPython 7.14, please import from IPython display\n",
      "  from IPython.core.display import display, HTML\n"
     ]
    },
    {
     "data": {
      "text/html": [
       "<style>.container { width:100% !important; }</style>"
      ],
      "text/plain": [
       "<IPython.core.display.HTML object>"
      ]
     },
     "metadata": {},
     "output_type": "display_data"
    }
   ],
   "source": [
    "import biorosetta as br\n",
    "import importlib as imp\n",
    "imp.reload(br)\n",
    "import pandas as pd\n",
    "from IPython.core.display import display, HTML\n",
    "display(HTML(\"<style>.container { width:100% !important; }</style>\"))"
   ]
  },
  {
   "cell_type": "markdown",
   "id": "f34ccd1c",
   "metadata": {},
   "source": [
    "# test"
   ]
  },
  {
   "cell_type": "code",
   "execution_count": 3,
   "id": "eb9dad01",
   "metadata": {
    "ExecuteTime": {
     "end_time": "2023-01-18T20:44:36.759233Z",
     "start_time": "2023-01-18T20:42:49.296707Z"
    }
   },
   "outputs": [
    {
     "name": "stderr",
     "output_type": "stream",
     "text": [
      "/Users/reema/Postdoc/Temp/ensembl.tsv: 31.8MiB [01:46, 313kiB/s] \n"
     ]
    }
   ],
   "source": [
    "br.utils.download(br.queries.ENSEMBL, '/Users/reema/Postdoc/Temp/ensembl.tsv')"
   ]
  },
  {
   "cell_type": "code",
   "execution_count": 20,
   "id": "b5c9381f",
   "metadata": {
    "ExecuteTime": {
     "end_time": "2023-01-18T21:15:09.745321Z",
     "start_time": "2023-01-18T21:15:09.740582Z"
    }
   },
   "outputs": [],
   "source": [
    "def get_relation(df, col1, col2):        \n",
    "    first_max = df[[col1, col2]].groupby(col1).count().max()[0]\n",
    "    second_max = df[[col1, col2]].groupby(col2).count().max()[0]\n",
    "    if first_max==1:\n",
    "        if second_max==1:\n",
    "            return 'one-to-one'\n",
    "        else:\n",
    "            return 'one-to-many'\n",
    "    else:\n",
    "        if second_max==1:\n",
    "            return 'many-to-one'\n",
    "        else:\n",
    "            return 'many-to-many'\n"
   ]
  },
  {
   "cell_type": "code",
   "execution_count": 13,
   "id": "c6ff0f54",
   "metadata": {
    "ExecuteTime": {
     "end_time": "2023-01-18T21:14:14.730622Z",
     "start_time": "2023-01-18T21:14:14.065437Z"
    }
   },
   "outputs": [],
   "source": [
    "data = pd.read_table('/Users/reema/Postdoc/Temp/ensembl.tsv', header=None, names=['ensg', 'ensp', 'symb', 'synonym', 'entr', 'hgnc'], dtype={'entr': 'str'})[['ensg','ensp','entr','hgnc','symb', 'synonym']]"
   ]
  },
  {
   "cell_type": "code",
   "execution_count": 38,
   "id": "9554e468",
   "metadata": {
    "ExecuteTime": {
     "end_time": "2023-01-18T21:21:01.927996Z",
     "start_time": "2023-01-18T21:21:01.915995Z"
    }
   },
   "outputs": [
    {
     "data": {
      "text/html": [
       "<div>\n",
       "<style scoped>\n",
       "    .dataframe tbody tr th:only-of-type {\n",
       "        vertical-align: middle;\n",
       "    }\n",
       "\n",
       "    .dataframe tbody tr th {\n",
       "        vertical-align: top;\n",
       "    }\n",
       "\n",
       "    .dataframe thead th {\n",
       "        text-align: right;\n",
       "    }\n",
       "</style>\n",
       "<table border=\"1\" class=\"dataframe\">\n",
       "  <thead>\n",
       "    <tr style=\"text-align: right;\">\n",
       "      <th></th>\n",
       "      <th>ensg</th>\n",
       "      <th>ensp</th>\n",
       "      <th>entr</th>\n",
       "      <th>hgnc</th>\n",
       "      <th>symb</th>\n",
       "      <th>synonym</th>\n",
       "    </tr>\n",
       "  </thead>\n",
       "  <tbody>\n",
       "    <tr>\n",
       "      <th>0</th>\n",
       "      <td>ENSG00000210049</td>\n",
       "      <td>NaN</td>\n",
       "      <td>NaN</td>\n",
       "      <td>HGNC:7481</td>\n",
       "      <td>MT-TF</td>\n",
       "      <td>MTTF</td>\n",
       "    </tr>\n",
       "    <tr>\n",
       "      <th>1</th>\n",
       "      <td>ENSG00000210049</td>\n",
       "      <td>NaN</td>\n",
       "      <td>NaN</td>\n",
       "      <td>HGNC:7481</td>\n",
       "      <td>MT-TF</td>\n",
       "      <td>trnF</td>\n",
       "    </tr>\n",
       "    <tr>\n",
       "      <th>2</th>\n",
       "      <td>ENSG00000211459</td>\n",
       "      <td>NaN</td>\n",
       "      <td>NaN</td>\n",
       "      <td>HGNC:7470</td>\n",
       "      <td>MT-RNR1</td>\n",
       "      <td>12S</td>\n",
       "    </tr>\n",
       "    <tr>\n",
       "      <th>3</th>\n",
       "      <td>ENSG00000211459</td>\n",
       "      <td>NaN</td>\n",
       "      <td>NaN</td>\n",
       "      <td>HGNC:7470</td>\n",
       "      <td>MT-RNR1</td>\n",
       "      <td>MOTS-c</td>\n",
       "    </tr>\n",
       "    <tr>\n",
       "      <th>4</th>\n",
       "      <td>ENSG00000211459</td>\n",
       "      <td>NaN</td>\n",
       "      <td>NaN</td>\n",
       "      <td>HGNC:7470</td>\n",
       "      <td>MT-RNR1</td>\n",
       "      <td>MTRNR1</td>\n",
       "    </tr>\n",
       "    <tr>\n",
       "      <th>...</th>\n",
       "      <td>...</td>\n",
       "      <td>...</td>\n",
       "      <td>...</td>\n",
       "      <td>...</td>\n",
       "      <td>...</td>\n",
       "      <td>...</td>\n",
       "    </tr>\n",
       "    <tr>\n",
       "      <th>631717</th>\n",
       "      <td>ENSG00000159388</td>\n",
       "      <td>ENSP00000290551</td>\n",
       "      <td>7832</td>\n",
       "      <td>HGNC:1131</td>\n",
       "      <td>BTG2</td>\n",
       "      <td>APRO1</td>\n",
       "    </tr>\n",
       "    <tr>\n",
       "      <th>631718</th>\n",
       "      <td>ENSG00000159388</td>\n",
       "      <td>ENSP00000290551</td>\n",
       "      <td>7832</td>\n",
       "      <td>HGNC:1131</td>\n",
       "      <td>BTG2</td>\n",
       "      <td>MGC126063</td>\n",
       "    </tr>\n",
       "    <tr>\n",
       "      <th>631719</th>\n",
       "      <td>ENSG00000159388</td>\n",
       "      <td>ENSP00000290551</td>\n",
       "      <td>7832</td>\n",
       "      <td>HGNC:1131</td>\n",
       "      <td>BTG2</td>\n",
       "      <td>MGC126064</td>\n",
       "    </tr>\n",
       "    <tr>\n",
       "      <th>631720</th>\n",
       "      <td>ENSG00000159388</td>\n",
       "      <td>ENSP00000290551</td>\n",
       "      <td>7832</td>\n",
       "      <td>HGNC:1131</td>\n",
       "      <td>BTG2</td>\n",
       "      <td>PC3</td>\n",
       "    </tr>\n",
       "    <tr>\n",
       "      <th>631721</th>\n",
       "      <td>ENSG00000159388</td>\n",
       "      <td>ENSP00000290551</td>\n",
       "      <td>7832</td>\n",
       "      <td>HGNC:1131</td>\n",
       "      <td>BTG2</td>\n",
       "      <td>TIS21</td>\n",
       "    </tr>\n",
       "  </tbody>\n",
       "</table>\n",
       "<p>631722 rows × 6 columns</p>\n",
       "</div>"
      ],
      "text/plain": [
       "                   ensg             ensp  entr       hgnc     symb    synonym\n",
       "0       ENSG00000210049              NaN   NaN  HGNC:7481    MT-TF       MTTF\n",
       "1       ENSG00000210049              NaN   NaN  HGNC:7481    MT-TF       trnF\n",
       "2       ENSG00000211459              NaN   NaN  HGNC:7470  MT-RNR1        12S\n",
       "3       ENSG00000211459              NaN   NaN  HGNC:7470  MT-RNR1     MOTS-c\n",
       "4       ENSG00000211459              NaN   NaN  HGNC:7470  MT-RNR1     MTRNR1\n",
       "...                 ...              ...   ...        ...      ...        ...\n",
       "631717  ENSG00000159388  ENSP00000290551  7832  HGNC:1131     BTG2      APRO1\n",
       "631718  ENSG00000159388  ENSP00000290551  7832  HGNC:1131     BTG2  MGC126063\n",
       "631719  ENSG00000159388  ENSP00000290551  7832  HGNC:1131     BTG2  MGC126064\n",
       "631720  ENSG00000159388  ENSP00000290551  7832  HGNC:1131     BTG2        PC3\n",
       "631721  ENSG00000159388  ENSP00000290551  7832  HGNC:1131     BTG2      TIS21\n",
       "\n",
       "[631722 rows x 6 columns]"
      ]
     },
     "execution_count": 38,
     "metadata": {},
     "output_type": "execute_result"
    }
   ],
   "source": [
    "data"
   ]
  },
  {
   "cell_type": "code",
   "execution_count": 29,
   "id": "a166a2ef",
   "metadata": {
    "ExecuteTime": {
     "end_time": "2023-01-18T21:18:05.482944Z",
     "start_time": "2023-01-18T21:18:05.324453Z"
    }
   },
   "outputs": [],
   "source": [
    "data2 = data[['ensg','ensp']].drop_duplicates()"
   ]
  },
  {
   "cell_type": "code",
   "execution_count": 35,
   "id": "e562db3a",
   "metadata": {
    "ExecuteTime": {
     "end_time": "2023-01-18T21:20:24.469070Z",
     "start_time": "2023-01-18T21:20:24.058948Z"
    }
   },
   "outputs": [
    {
     "data": {
      "text/plain": [
       "'many-to-many'"
      ]
     },
     "execution_count": 35,
     "metadata": {},
     "output_type": "execute_result"
    }
   ],
   "source": [
    "get_relation(data[['ensp','entr']].drop_duplicates(), 'ensp','entr')"
   ]
  },
  {
   "cell_type": "code",
   "execution_count": 31,
   "id": "f3c8bc84",
   "metadata": {
    "ExecuteTime": {
     "end_time": "2023-01-18T21:18:31.075522Z",
     "start_time": "2023-01-18T21:18:30.917949Z"
    }
   },
   "outputs": [
    {
     "data": {
      "text/plain": [
       "151"
      ]
     },
     "execution_count": 31,
     "metadata": {},
     "output_type": "execute_result"
    }
   ],
   "source": [
    "data2[['ensg', 'ensp']].groupby('ensg').count().max()[0]"
   ]
  },
  {
   "cell_type": "code",
   "execution_count": 33,
   "id": "7073f728",
   "metadata": {
    "ExecuteTime": {
     "end_time": "2023-01-19T01:25:49.049982Z",
     "start_time": "2023-01-19T01:25:49.046924Z"
    }
   },
   "outputs": [],
   "source": [
    "pd.options.display.max_rows = 100\n",
    "pd.options.display.min_rows = 100"
   ]
  },
  {
   "cell_type": "markdown",
   "id": "e22f9d87",
   "metadata": {
    "heading_collapsed": true
   },
   "source": [
    "# test2\n"
   ]
  },
  {
   "cell_type": "code",
   "execution_count": 2,
   "id": "d32155bc",
   "metadata": {
    "ExecuteTime": {
     "end_time": "2023-01-19T00:57:49.150569Z",
     "start_time": "2023-01-19T00:57:40.536948Z"
    },
    "hidden": true
   },
   "outputs": [],
   "source": [
    "idm = br.EnsemblBiomartMapper()"
   ]
  },
  {
   "cell_type": "code",
   "execution_count": 3,
   "id": "f93efcff",
   "metadata": {
    "ExecuteTime": {
     "end_time": "2023-01-19T00:57:53.423999Z",
     "start_time": "2023-01-19T00:57:53.027459Z"
    },
    "hidden": true
   },
   "outputs": [],
   "source": [
    "idm2 = br.EnsemblBiomartMapper()"
   ]
  },
  {
   "cell_type": "code",
   "execution_count": 2,
   "id": "79f08215",
   "metadata": {
    "ExecuteTime": {
     "end_time": "2023-01-19T01:18:05.471156Z",
     "start_time": "2023-01-19T01:18:05.344018Z"
    },
    "hidden": true
   },
   "outputs": [
    {
     "name": "stdout",
     "output_type": "stream",
     "text": [
      "- Loading lookup tables from cache\n"
     ]
    }
   ],
   "source": [
    "idm = br.HGNCBiomartMapper()"
   ]
  },
  {
   "cell_type": "code",
   "execution_count": 3,
   "id": "69aeeeb6",
   "metadata": {
    "ExecuteTime": {
     "end_time": "2023-01-19T01:18:05.774053Z",
     "start_time": "2023-01-19T01:18:05.761050Z"
    },
    "hidden": true
   },
   "outputs": [
    {
     "data": {
      "text/plain": [
       "'HGNC:1131'"
      ]
     },
     "execution_count": 3,
     "metadata": {},
     "output_type": "execute_result"
    }
   ],
   "source": [
    "idm.convert('ENSG00000159388','ensg','hgnc')"
   ]
  },
  {
   "cell_type": "code",
   "execution_count": 4,
   "id": "6615a645",
   "metadata": {
    "ExecuteTime": {
     "end_time": "2023-01-19T01:07:45.582607Z",
     "start_time": "2023-01-19T01:07:45.564625Z"
    },
    "hidden": true
   },
   "outputs": [
    {
     "data": {
      "text/html": [
       "<div>\n",
       "<style scoped>\n",
       "    .dataframe tbody tr th:only-of-type {\n",
       "        vertical-align: middle;\n",
       "    }\n",
       "\n",
       "    .dataframe tbody tr th {\n",
       "        vertical-align: top;\n",
       "    }\n",
       "\n",
       "    .dataframe thead th {\n",
       "        text-align: right;\n",
       "    }\n",
       "</style>\n",
       "<table border=\"1\" class=\"dataframe\">\n",
       "  <thead>\n",
       "    <tr style=\"text-align: right;\">\n",
       "      <th></th>\n",
       "      <th>ensg</th>\n",
       "      <th>entr</th>\n",
       "      <th>symb</th>\n",
       "    </tr>\n",
       "  </thead>\n",
       "  <tbody>\n",
       "    <tr>\n",
       "      <th>0</th>\n",
       "      <td>ENSG00000121410</td>\n",
       "      <td>1</td>\n",
       "      <td>A1BG</td>\n",
       "    </tr>\n",
       "    <tr>\n",
       "      <th>1</th>\n",
       "      <td>ENSG00000268895</td>\n",
       "      <td>503538</td>\n",
       "      <td>A1BG-AS1</td>\n",
       "    </tr>\n",
       "    <tr>\n",
       "      <th>2</th>\n",
       "      <td>ENSG00000268895</td>\n",
       "      <td>503538</td>\n",
       "      <td>A1BG-AS1</td>\n",
       "    </tr>\n",
       "    <tr>\n",
       "      <th>3</th>\n",
       "      <td>ENSG00000268895</td>\n",
       "      <td>503538</td>\n",
       "      <td>A1BG-AS1</td>\n",
       "    </tr>\n",
       "    <tr>\n",
       "      <th>4</th>\n",
       "      <td>ENSG00000148584</td>\n",
       "      <td>29974</td>\n",
       "      <td>A1CF</td>\n",
       "    </tr>\n",
       "    <tr>\n",
       "      <th>...</th>\n",
       "      <td>...</td>\n",
       "      <td>...</td>\n",
       "      <td>...</td>\n",
       "    </tr>\n",
       "    <tr>\n",
       "      <th>71525</th>\n",
       "      <td>ENSG00000074755</td>\n",
       "      <td>23140</td>\n",
       "      <td>ZZEF1</td>\n",
       "    </tr>\n",
       "    <tr>\n",
       "      <th>71526</th>\n",
       "      <td>ENSG00000074755</td>\n",
       "      <td>23140</td>\n",
       "      <td>ZZEF1</td>\n",
       "    </tr>\n",
       "    <tr>\n",
       "      <th>71527</th>\n",
       "      <td>ENSG00000074755</td>\n",
       "      <td>23140</td>\n",
       "      <td>ZZEF1</td>\n",
       "    </tr>\n",
       "    <tr>\n",
       "      <th>71528</th>\n",
       "      <td>ENSG00000036549</td>\n",
       "      <td>26009</td>\n",
       "      <td>ZZZ3</td>\n",
       "    </tr>\n",
       "    <tr>\n",
       "      <th>71529</th>\n",
       "      <td>ENSG00000036549</td>\n",
       "      <td>26009</td>\n",
       "      <td>ZZZ3</td>\n",
       "    </tr>\n",
       "  </tbody>\n",
       "</table>\n",
       "<p>71530 rows × 3 columns</p>\n",
       "</div>"
      ],
      "text/plain": [
       "                  ensg    entr      symb\n",
       "0      ENSG00000121410       1      A1BG\n",
       "1      ENSG00000268895  503538  A1BG-AS1\n",
       "2      ENSG00000268895  503538  A1BG-AS1\n",
       "3      ENSG00000268895  503538  A1BG-AS1\n",
       "4      ENSG00000148584   29974      A1CF\n",
       "...                ...     ...       ...\n",
       "71525  ENSG00000074755   23140     ZZEF1\n",
       "71526  ENSG00000074755   23140     ZZEF1\n",
       "71527  ENSG00000074755   23140     ZZEF1\n",
       "71528  ENSG00000036549   26009      ZZZ3\n",
       "71529  ENSG00000036549   26009      ZZZ3\n",
       "\n",
       "[71530 rows x 3 columns]"
      ]
     },
     "execution_count": 4,
     "metadata": {},
     "output_type": "execute_result"
    }
   ],
   "source": [
    "idm._data"
   ]
  },
  {
   "cell_type": "code",
   "execution_count": 19,
   "id": "b594cf97",
   "metadata": {
    "ExecuteTime": {
     "end_time": "2023-01-19T00:54:05.422153Z",
     "start_time": "2023-01-19T00:54:04.632965Z"
    },
    "hidden": true
   },
   "outputs": [],
   "source": [
    "import pickle\n",
    "with open('/Users/reema/Postdoc/Temp/dict.pickle', 'wb') as f:\n",
    "    pickle.dump([idm._lookup,idm._data], f)"
   ]
  },
  {
   "cell_type": "code",
   "execution_count": 20,
   "id": "898e5c37",
   "metadata": {
    "ExecuteTime": {
     "end_time": "2023-01-19T00:54:06.385202Z",
     "start_time": "2023-01-19T00:54:05.973656Z"
    },
    "hidden": true
   },
   "outputs": [],
   "source": [
    "       \n",
    "with open('/Users/reema/Postdoc/Temp/dict.pickle', 'rb') as f:\n",
    "        loaded_dict = pickle.load(f)"
   ]
  },
  {
   "cell_type": "code",
   "execution_count": 23,
   "id": "29d5ac2b",
   "metadata": {
    "ExecuteTime": {
     "end_time": "2023-01-19T00:54:10.888781Z",
     "start_time": "2023-01-19T00:54:10.877310Z"
    },
    "hidden": true
   },
   "outputs": [
    {
     "data": {
      "text/html": [
       "<div>\n",
       "<style scoped>\n",
       "    .dataframe tbody tr th:only-of-type {\n",
       "        vertical-align: middle;\n",
       "    }\n",
       "\n",
       "    .dataframe tbody tr th {\n",
       "        vertical-align: top;\n",
       "    }\n",
       "\n",
       "    .dataframe thead th {\n",
       "        text-align: right;\n",
       "    }\n",
       "</style>\n",
       "<table border=\"1\" class=\"dataframe\">\n",
       "  <thead>\n",
       "    <tr style=\"text-align: right;\">\n",
       "      <th></th>\n",
       "      <th>ensg</th>\n",
       "      <th>ensp</th>\n",
       "      <th>entr</th>\n",
       "      <th>hgnc</th>\n",
       "      <th>symb</th>\n",
       "    </tr>\n",
       "  </thead>\n",
       "  <tbody>\n",
       "    <tr>\n",
       "      <th>0</th>\n",
       "      <td>ENSG00000210049</td>\n",
       "      <td>NaN</td>\n",
       "      <td>NaN</td>\n",
       "      <td>HGNC:7481</td>\n",
       "      <td>MT-TF</td>\n",
       "    </tr>\n",
       "    <tr>\n",
       "      <th>1</th>\n",
       "      <td>ENSG00000210049</td>\n",
       "      <td>NaN</td>\n",
       "      <td>NaN</td>\n",
       "      <td>HGNC:7481</td>\n",
       "      <td>MT-TF</td>\n",
       "    </tr>\n",
       "    <tr>\n",
       "      <th>2</th>\n",
       "      <td>ENSG00000211459</td>\n",
       "      <td>NaN</td>\n",
       "      <td>NaN</td>\n",
       "      <td>HGNC:7470</td>\n",
       "      <td>MT-RNR1</td>\n",
       "    </tr>\n",
       "    <tr>\n",
       "      <th>3</th>\n",
       "      <td>ENSG00000211459</td>\n",
       "      <td>NaN</td>\n",
       "      <td>NaN</td>\n",
       "      <td>HGNC:7470</td>\n",
       "      <td>MT-RNR1</td>\n",
       "    </tr>\n",
       "    <tr>\n",
       "      <th>4</th>\n",
       "      <td>ENSG00000211459</td>\n",
       "      <td>NaN</td>\n",
       "      <td>NaN</td>\n",
       "      <td>HGNC:7470</td>\n",
       "      <td>MT-RNR1</td>\n",
       "    </tr>\n",
       "    <tr>\n",
       "      <th>...</th>\n",
       "      <td>...</td>\n",
       "      <td>...</td>\n",
       "      <td>...</td>\n",
       "      <td>...</td>\n",
       "      <td>...</td>\n",
       "    </tr>\n",
       "    <tr>\n",
       "      <th>425119</th>\n",
       "      <td>ENSG00000159388</td>\n",
       "      <td>ENSP00000290551</td>\n",
       "      <td>7832</td>\n",
       "      <td>HGNC:1131</td>\n",
       "      <td>BTG2</td>\n",
       "    </tr>\n",
       "    <tr>\n",
       "      <th>425120</th>\n",
       "      <td>ENSG00000159388</td>\n",
       "      <td>ENSP00000290551</td>\n",
       "      <td>7832</td>\n",
       "      <td>HGNC:1131</td>\n",
       "      <td>BTG2</td>\n",
       "    </tr>\n",
       "    <tr>\n",
       "      <th>425121</th>\n",
       "      <td>ENSG00000159388</td>\n",
       "      <td>ENSP00000290551</td>\n",
       "      <td>7832</td>\n",
       "      <td>HGNC:1131</td>\n",
       "      <td>BTG2</td>\n",
       "    </tr>\n",
       "    <tr>\n",
       "      <th>425122</th>\n",
       "      <td>ENSG00000159388</td>\n",
       "      <td>ENSP00000290551</td>\n",
       "      <td>7832</td>\n",
       "      <td>HGNC:1131</td>\n",
       "      <td>BTG2</td>\n",
       "    </tr>\n",
       "    <tr>\n",
       "      <th>425123</th>\n",
       "      <td>ENSG00000159388</td>\n",
       "      <td>ENSP00000290551</td>\n",
       "      <td>7832</td>\n",
       "      <td>HGNC:1131</td>\n",
       "      <td>BTG2</td>\n",
       "    </tr>\n",
       "  </tbody>\n",
       "</table>\n",
       "<p>425124 rows × 5 columns</p>\n",
       "</div>"
      ],
      "text/plain": [
       "                   ensg             ensp  entr       hgnc     symb\n",
       "0       ENSG00000210049              NaN   NaN  HGNC:7481    MT-TF\n",
       "1       ENSG00000210049              NaN   NaN  HGNC:7481    MT-TF\n",
       "2       ENSG00000211459              NaN   NaN  HGNC:7470  MT-RNR1\n",
       "3       ENSG00000211459              NaN   NaN  HGNC:7470  MT-RNR1\n",
       "4       ENSG00000211459              NaN   NaN  HGNC:7470  MT-RNR1\n",
       "...                 ...              ...   ...        ...      ...\n",
       "425119  ENSG00000159388  ENSP00000290551  7832  HGNC:1131     BTG2\n",
       "425120  ENSG00000159388  ENSP00000290551  7832  HGNC:1131     BTG2\n",
       "425121  ENSG00000159388  ENSP00000290551  7832  HGNC:1131     BTG2\n",
       "425122  ENSG00000159388  ENSP00000290551  7832  HGNC:1131     BTG2\n",
       "425123  ENSG00000159388  ENSP00000290551  7832  HGNC:1131     BTG2\n",
       "\n",
       "[425124 rows x 5 columns]"
      ]
     },
     "execution_count": 23,
     "metadata": {},
     "output_type": "execute_result"
    }
   ],
   "source": [
    "loaded_dict[1]"
   ]
  },
  {
   "cell_type": "code",
   "execution_count": 12,
   "id": "c8ee6763",
   "metadata": {
    "ExecuteTime": {
     "end_time": "2023-01-19T00:14:30.093480Z",
     "start_time": "2023-01-19T00:14:30.000821Z"
    },
    "hidden": true
   },
   "outputs": [
    {
     "data": {
      "text/plain": [
       "[('ENSG00000210049', 'N/A'),\n",
       " ('ENSG00000211459', 'N/A'),\n",
       " ('ENSG00000210077', 'N/A'),\n",
       " ('ENSG00000210082', 'N/A'),\n",
       " ('ENSG00000209082', 'N/A'),\n",
       " ('ENSG00000198888', 'ENSP00000354687'),\n",
       " ('ENSG00000210100', 'N/A'),\n",
       " ('ENSG00000210107', 'N/A'),\n",
       " ('ENSG00000210112', 'N/A'),\n",
       " ('ENSG00000198763', 'ENSP00000355046'),\n",
       " ('ENSG00000210117', 'N/A'),\n",
       " ('ENSG00000210127', 'N/A'),\n",
       " ('ENSG00000210135', 'N/A'),\n",
       " ('ENSG00000210140', 'N/A'),\n",
       " ('ENSG00000210144', 'N/A'),\n",
       " ('ENSG00000198804', 'ENSP00000354499'),\n",
       " ('ENSG00000210151', 'N/A'),\n",
       " ('ENSG00000210154', 'N/A'),\n",
       " ('ENSG00000198712', 'ENSP00000354876'),\n",
       " ('ENSG00000210156', 'N/A'),\n",
       " ('ENSG00000228253', 'ENSP00000355265'),\n",
       " ('ENSG00000198899', 'ENSP00000354632'),\n",
       " ('ENSG00000198938', 'ENSP00000354982'),\n",
       " ('ENSG00000210164', 'N/A'),\n",
       " ('ENSG00000198840', 'ENSP00000355206'),\n",
       " ('ENSG00000210174', 'N/A'),\n",
       " ('ENSG00000212907', 'ENSP00000354728'),\n",
       " ('ENSG00000198886', 'ENSP00000354961'),\n",
       " ('ENSG00000210176', 'N/A'),\n",
       " ('ENSG00000210184', 'N/A'),\n",
       " ('ENSG00000210191', 'N/A'),\n",
       " ('ENSG00000198786', 'ENSP00000354813'),\n",
       " ('ENSG00000198695', 'ENSP00000354665'),\n",
       " ('ENSG00000210194', 'N/A'),\n",
       " ('ENSG00000198727', 'ENSP00000354554'),\n",
       " ('ENSG00000210195', 'N/A'),\n",
       " ('ENSG00000210196', 'N/A'),\n",
       " ('ENSG00000278457', 'N/A'),\n",
       " ('ENSG00000275151', 'N/A'),\n",
       " ('ENSG00000271254', 'ENSP00000484923|ENSP00000478665'),\n",
       " ('ENSG00000280663',\n",
       "  'ENSP00000486003|ENSP00000487463|ENSP00000486648|ENSP00000486510|ENSP00000486493|ENSP00000486313|ENSP00000485733|ENSP00000482166|ENSP00000478638'),\n",
       " ('ENSG00000262826',\n",
       "  'ENSP00000460221|ENSP00000458631|ENSP00000459907|ENSP00000485412|ENSP00000459285|ENSP00000485252'),\n",
       " ('ENSG00000278704', 'ENSP00000484918'),\n",
       " ('ENSG00000273947', 'ENSP00000482248'),\n",
       " ('ENSG00000278294', 'N/A'),\n",
       " ('ENSG00000279969', 'N/A'),\n",
       " ('ENSG00000276779', 'ENSP00000482383'),\n",
       " ('ENSG00000274882', 'N/A'),\n",
       " ('ENSG00000273735', 'ENSP00000482956|ENSP00000480951'),\n",
       " ('ENSG00000275717', 'ENSP00000478759|ENSP00000481266|ENSP00000483200'),\n",
       " ('ENSG00000276379', 'ENSP00000484895'),\n",
       " ('ENSG00000276433', 'ENSP00000480099'),\n",
       " ('ENSG00000277995', 'N/A'),\n",
       " ('ENSG00000275442', 'N/A'),\n",
       " ('ENSG00000274692', 'ENSP00000480989'),\n",
       " ('ENSG00000277484', 'ENSP00000483975'),\n",
       " ('ENSG00000276970', 'N/A'),\n",
       " ('ENSG00000275062', 'ENSP00000479747'),\n",
       " ('ENSG00000277921', 'N/A'),\n",
       " ('ENSG00000277554', 'ENSP00000481237'),\n",
       " ('ENSG00000277272', 'ENSP00000481576|ENSP00000478631'),\n",
       " ('ENSG00000277044', 'ENSP00000478920|ENSP00000485794|ENSP00000487083'),\n",
       " ('ENSG00000278074', 'ENSP00000477886'),\n",
       " ('ENSG00000277339', 'ENSP00000484253'),\n",
       " ('ENSG00000274807', 'ENSP00000478998|ENSP00000479129'),\n",
       " ('ENSG00000280695', 'N/A'),\n",
       " ('ENSG00000274714', 'ENSP00000479369'),\n",
       " ('ENSG00000276876',\n",
       "  'ENSP00000481863|ENSP00000477771|ENSP00000478819|ENSP00000483021'),\n",
       " ('ENSG00000277334',\n",
       "  'ENSP00000477986|ENSP00000483780|ENSP00000484847|ENSP00000479161'),\n",
       " ('ENSG00000276885', 'ENSP00000484123'),\n",
       " ('ENSG00000273575',\n",
       "  'ENSP00000484019|ENSP00000484890|ENSP00000477984|ENSP00000479000|ENSP00000484815'),\n",
       " ('ENSG00000275786', 'ENSP00000478110|ENSP00000483664|ENSP00000479469'),\n",
       " ('ENSG00000276518', 'ENSP00000480312'),\n",
       " ('ENSG00000275237', 'ENSP00000484336|ENSP00000477834'),\n",
       " ('ENSG00000278152', 'ENSP00000481307|ENSP00000482387'),\n",
       " ('ENSG00000277982', 'ENSP00000483218|ENSP00000478100'),\n",
       " ('ENSG00000277267', 'N/A'),\n",
       " ('ENSG00000273510', 'ENSP00000482449'),\n",
       " ('ENSG00000274324', 'ENSP00000478383'),\n",
       " ('ENSG00000276423', 'ENSP00000484972'),\n",
       " ('ENSG00000276534', 'ENSP00000477819'),\n",
       " ('ENSG00000274130', 'N/A'),\n",
       " ('ENSG00000276820', 'ENSP00000481123'),\n",
       " ('ENSG00000278731', 'ENSP00000482201'),\n",
       " ('ENSG00000278306', 'ENSP00000480969'),\n",
       " ('ENSG00000277620', 'ENSP00000478741'),\n",
       " ('ENSG00000280538', 'N/A'),\n",
       " ('ENSG00000281806', 'N/A'),\n",
       " ('ENSG00000275732', 'ENSP00000484171|ENSP00000480253'),\n",
       " ('ENSG00000281362', 'N/A'),\n",
       " ('ENSG00000274948', 'ENSP00000482160'),\n",
       " ('ENSG00000276858',\n",
       "  'ENSP00000479924|ENSP00000484136|ENSP00000479880|ENSP00000478465|ENSP00000479239|ENSP00000478163|ENSP00000483258|ENSP00000483121|ENSP00000477656|ENSP00000477673'),\n",
       " ('ENSG00000276328', 'ENSP00000481664'),\n",
       " ('ENSG00000274696', 'ENSP00000478407|ENSP00000477890'),\n",
       " ('ENSG00000275407', 'ENSP00000481907'),\n",
       " ('ENSG00000278805', 'ENSP00000478895'),\n",
       " ('ENSG00000277345', 'ENSP00000481279'),\n",
       " ('ENSG00000275422', 'N/A'),\n",
       " ('ENSG00000275914', 'ENSP00000480161'),\n",
       " ('ENSG00000276424', 'ENSP00000484092|ENSP00000478587')]"
      ]
     },
     "execution_count": 12,
     "metadata": {},
     "output_type": "execute_result"
    }
   ],
   "source": [
    "list(zip(idm._data['ensg'].unique()[:100],idm.convert(idm._data['ensg'].unique()[:100],'ensg','ensp',multi_hits='all')))"
   ]
  },
  {
   "cell_type": "code",
   "execution_count": 5,
   "id": "713d9099",
   "metadata": {
    "ExecuteTime": {
     "end_time": "2023-01-19T00:11:30.804719Z",
     "start_time": "2023-01-19T00:11:30.775438Z"
    },
    "hidden": true
   },
   "outputs": [
    {
     "data": {
      "text/plain": [
       "{'ensg': {'ensp': ensg\n",
       "  ENSG00000198888                                      ENSP00000354687\n",
       "  ENSG00000198763                                      ENSP00000355046\n",
       "  ENSG00000198804                                      ENSP00000354499\n",
       "  ENSG00000198712                                      ENSP00000354876\n",
       "  ENSG00000228253                                      ENSP00000355265\n",
       "                                           ...                        \n",
       "  ENSG00000290203      ENSP00000515387|ENSP00000410887|ENSP00000454143\n",
       "  ENSG00000290263                      ENSP00000500512|ENSP00000500518\n",
       "  ENSG00000290292    ENSP00000350049|ENSP00000453979|ENSP0000050115...\n",
       "  ENSG00000290315                      ENSP00000515567|ENSP00000515568\n",
       "  ENSG00000291237    ENSP00000446252|ENSP00000356022|ENSP0000044013...\n",
       "  Length: 23500, dtype: object,\n",
       "  'entr': ensg\n",
       "  ENSG00000198888                   4535\n",
       "  ENSG00000198763                   4536\n",
       "  ENSG00000198804                   4512\n",
       "  ENSG00000210151              113219467\n",
       "  ENSG00000198712                   4513\n",
       "                            ...         \n",
       "  ENSG00000291050    100132288|100233156\n",
       "  ENSG00000291150       645166|107985911\n",
       "  ENSG00000291153        64940|101929736\n",
       "  ENSG00000291154              5380|5382\n",
       "  ENSG00000291158           57234|388692\n",
       "  Length: 29912, dtype: object,\n",
       "  'hgnc': ensg\n",
       "  ENSG00000210049                HGNC:7481\n",
       "  ENSG00000211459                HGNC:7470\n",
       "  ENSG00000210077                HGNC:7500\n",
       "  ENSG00000210082                HGNC:7471\n",
       "  ENSG00000209082                HGNC:7490\n",
       "                             ...          \n",
       "  ENSG00000230417    HGNC:31430|HGNC:45111\n",
       "  ENSG00000276085    HGNC:10628|HGNC:30554\n",
       "  ENSG00000277336    HGNC:10628|HGNC:30554\n",
       "  ENSG00000277768    HGNC:10628|HGNC:30554\n",
       "  ENSG00000277796    HGNC:10628|HGNC:30554\n",
       "  Length: 45047, dtype: object,\n",
       "  'symb': ensg\n",
       "  ENSG00000210049      MT-TF\n",
       "  ENSG00000211459    MT-RNR1\n",
       "  ENSG00000210077      MT-TV\n",
       "  ENSG00000210082    MT-RNR2\n",
       "  ENSG00000209082     MT-TL1\n",
       "                      ...   \n",
       "  ENSG00000162543     UBXN10\n",
       "  ENSG00000134686       PHC2\n",
       "  ENSG00000159023      EPB41\n",
       "  ENSG00000198216    CACNA1E\n",
       "  ENSG00000159388       BTG2\n",
       "  Name: symb, Length: 46761, dtype: object},\n",
       " 'ensp': {'ensg': ensp\n",
       "  ENSP00000354687    ENSG00000198888\n",
       "  ENSP00000355046    ENSG00000198763\n",
       "  ENSP00000354499    ENSG00000198804\n",
       "  ENSP00000354876    ENSG00000198712\n",
       "  ENSP00000355265    ENSG00000228253\n",
       "                          ...       \n",
       "  ENSP00000514851    ENSG00000198216\n",
       "  ENSP00000496576    ENSG00000198216\n",
       "  ENSP00000514852    ENSG00000198216\n",
       "  ENSP00000433553    ENSG00000159388\n",
       "  ENSP00000290551    ENSG00000159388\n",
       "  Name: ensg, Length: 121541, dtype: object,\n",
       "  'entr': ensp\n",
       "  ENSP00000354687                         4535\n",
       "  ENSP00000355046                         4536\n",
       "  ENSP00000354499                         4512\n",
       "  ENSP00000354876                         4513\n",
       "  ENSP00000355265                         4509\n",
       "                               ...            \n",
       "  ENSP00000516342    51326|100506084|100996709\n",
       "  ENSP00000516343    51326|100506084|100996709\n",
       "  ENSP00000516344    51326|100506084|100996709\n",
       "  ENSP00000516345               1394|104909134\n",
       "  ENSP00000516347    51326|100506084|100996709\n",
       "  Length: 119494, dtype: object,\n",
       "  'hgnc': ensp\n",
       "  ENSP00000354687                HGNC:7455\n",
       "  ENSP00000355046                HGNC:7456\n",
       "  ENSP00000354499                HGNC:7419\n",
       "  ENSP00000354876                HGNC:7421\n",
       "  ENSP00000355265                HGNC:7415\n",
       "                             ...          \n",
       "  ENSP00000290551                HGNC:1131\n",
       "  ENSP00000480051    HGNC:10628|HGNC:30554\n",
       "  ENSP00000480558    HGNC:10628|HGNC:30554\n",
       "  ENSP00000482487    HGNC:10628|HGNC:30554\n",
       "  ENSP00000484704    HGNC:10628|HGNC:30554\n",
       "  Length: 120035, dtype: object,\n",
       "  'symb': ensp\n",
       "  ENSP00000354687     MT-ND1\n",
       "  ENSP00000355046     MT-ND2\n",
       "  ENSP00000354499     MT-CO1\n",
       "  ENSP00000354876     MT-CO2\n",
       "  ENSP00000355265    MT-ATP8\n",
       "                      ...   \n",
       "  ENSP00000514851    CACNA1E\n",
       "  ENSP00000496576    CACNA1E\n",
       "  ENSP00000514852    CACNA1E\n",
       "  ENSP00000433553       BTG2\n",
       "  ENSP00000290551       BTG2\n",
       "  Name: symb, Length: 120080, dtype: object},\n",
       " 'entr': {'ensg': entr\n",
       "  4535                         ENSG00000198888\n",
       "  4536                         ENSG00000198763\n",
       "  4512                         ENSG00000198804\n",
       "  113219467                    ENSG00000210151\n",
       "  4513                         ENSG00000198712\n",
       "                            ...               \n",
       "  9859         ENSG00000276725|ENSG00000143702\n",
       "  9884         ENSG00000278742|ENSG00000176681\n",
       "  9920         ENSG00000273645|ENSG00000176595\n",
       "  9985         ENSG00000285007|ENSG00000100918\n",
       "  9994         ENSG00000288475|ENSG00000118412\n",
       "  Length: 27206, dtype: object,\n",
       "  'ensp': entr\n",
       "  4535                                      ENSP00000354687\n",
       "  4536                                      ENSP00000355046\n",
       "  4512                                      ENSP00000354499\n",
       "  4513                                      ENSP00000354876\n",
       "  4509                                      ENSP00000355265\n",
       "                                ...                        \n",
       "  9990    ENSP00000346112|ENSP00000290209|ENSP0000050253...\n",
       "  9991    ENSP00000363375|ENSP00000363373|ENSP0000034070...\n",
       "  9993    ENSP00000440062|ENSP00000445069|ENSP0000037391...\n",
       "  9994    ENSP00000500410|ENSP00000500103|ENSP0000050043...\n",
       "  9997    ENSP00000379046|ENSP00000444242|ENSP0000044443...\n",
       "  Length: 19636, dtype: object,\n",
       "  'hgnc': entr\n",
       "  4535                               HGNC:7455\n",
       "  4536                               HGNC:7456\n",
       "  4512                               HGNC:7419\n",
       "  113219467                          HGNC:7497\n",
       "  4513                               HGNC:7421\n",
       "                            ...               \n",
       "  728689                  HGNC:26347|HGNC:3279\n",
       "  729873                 HGNC:51246|HGNC:19031\n",
       "  79008                  HGNC:20922|HGNC:28748\n",
       "  81399        HGNC:8300|HGNC:31275|HGNC:15079\n",
       "  8293                   HGNC:10756|HGNC:10755\n",
       "  Length: 25540, dtype: object,\n",
       "  'symb': entr\n",
       "  4535                      MT-ND1\n",
       "  4536                      MT-ND2\n",
       "  4512                      MT-CO1\n",
       "  113219467                 MT-TS1\n",
       "  4513                      MT-CO2\n",
       "                      ...         \n",
       "  729873            TBC1D3L|TBC1D3\n",
       "  79008                SLX1A|SLX1B\n",
       "  81399        OR4F3|OR4F29|OR4F16\n",
       "  8293               SERF1B|SERF1A\n",
       "  89838              ULK4P2|ULK4P1\n",
       "  Length: 25879, dtype: object},\n",
       " 'hgnc': {'ensg': hgnc\n",
       "  HGNC:7481                                      ENSG00000210049\n",
       "  HGNC:7470                                      ENSG00000211459\n",
       "  HGNC:7500                                      ENSG00000210077\n",
       "  HGNC:7471                                      ENSG00000210082\n",
       "  HGNC:7490                                      ENSG00000209082\n",
       "                                     ...                        \n",
       "  HGNC:9795                      ENSG00000285193|ENSG00000100949\n",
       "  HGNC:9807                      ENSG00000276618|ENSG00000152942\n",
       "  HGNC:9906                      ENSG00000277564|ENSG00000100320\n",
       "  HGNC:9975    ENSG00000234495|ENSG00000229006|ENSG0000021564...\n",
       "  HGNC:9982                      ENSG00000288283|ENSG00000132005\n",
       "  Length: 40205, dtype: object,\n",
       "  'ensp': hgnc\n",
       "  HGNC:7455                                      ENSP00000354687\n",
       "  HGNC:7456                                      ENSP00000355046\n",
       "  HGNC:7419                                      ENSP00000354499\n",
       "  HGNC:7421                                      ENSP00000354876\n",
       "  HGNC:7415                                      ENSP00000355265\n",
       "                                     ...                        \n",
       "  HGNC:9993    ENSP00000380876|ENSP00000168869|ENSP0000031906...\n",
       "  HGNC:9994    ENSP00000338509|ENSP00000339381|ENSP0000042425...\n",
       "  HGNC:9995                      ENSP00000442837|ENSP00000375853\n",
       "  HGNC:9996                      ENSP00000386229|ENSP00000422329\n",
       "  HGNC:9999    ENSP00000363255|ENSP00000259406|ENSP0000051188...\n",
       "  Length: 19822, dtype: object,\n",
       "  'entr': hgnc\n",
       "  HGNC:7455                          4535\n",
       "  HGNC:7456                          4536\n",
       "  HGNC:7419                          4512\n",
       "  HGNC:7497                     113219467\n",
       "  HGNC:7421                          4513\n",
       "                          ...            \n",
       "  HGNC:8886    643847|124906959|124906960\n",
       "  HGNC:9129                     5380|5382\n",
       "  HGNC:9337                   5542|653247\n",
       "  HGNC:935                  571|100379661\n",
       "  HGNC:9800                   11158|11159\n",
       "  Length: 24914, dtype: object,\n",
       "  'symb': hgnc\n",
       "  HGNC:7481             MT-TF\n",
       "  HGNC:7470           MT-RNR1\n",
       "  HGNC:7500             MT-TV\n",
       "  HGNC:7471           MT-RNR2\n",
       "  HGNC:7490            MT-TL1\n",
       "                    ...      \n",
       "  HGNC:3377             EPB41\n",
       "  HGNC:1392           CACNA1E\n",
       "  HGNC:1131              BTG2\n",
       "  HGNC:10628    CCL3L1|CCL3L3\n",
       "  HGNC:30554    CCL3L1|CCL3L3\n",
       "  Length: 40205, dtype: object},\n",
       " 'symb': {'ensg': MT-TF        ENSG00000210049\n",
       "  MT-RNR1      ENSG00000211459\n",
       "  MT-TV        ENSG00000210077\n",
       "  MT-RNR2      ENSG00000210082\n",
       "  MT-TL1       ENSG00000209082\n",
       "                    ...       \n",
       "  Cav2.3       ENSG00000198216\n",
       "  APRO1        ENSG00000159388\n",
       "  MGC126063    ENSG00000159388\n",
       "  MGC126064    ENSG00000159388\n",
       "  TIS21        ENSG00000159388\n",
       "  Length: 92407, dtype: object,\n",
       "  'ensp': MT-ND1                                         ENSP00000354687\n",
       "  MT-ND2                                         ENSP00000355046\n",
       "  MT-CO1                                         ENSP00000354499\n",
       "  MT-CO2                                         ENSP00000354876\n",
       "  MT-ATP8                                        ENSP00000355265\n",
       "                                     ...                        \n",
       "  Cav2.3       ENSP00000432038|ENSP00000356542|ENSP0000035654...\n",
       "  APRO1                          ENSP00000433553|ENSP00000290551\n",
       "  MGC126063                      ENSP00000433553|ENSP00000290551\n",
       "  MGC126064                      ENSP00000433553|ENSP00000290551\n",
       "  TIS21                          ENSP00000433553|ENSP00000290551\n",
       "  Length: 60692, dtype: object,\n",
       "  'entr': MT-ND1            4535\n",
       "  MT-ND2            4536\n",
       "  MT-CO1            4512\n",
       "  MT-TS1       113219467\n",
       "  MT-CO2            4513\n",
       "                 ...    \n",
       "  Cav2.3             777\n",
       "  APRO1             7832\n",
       "  MGC126063         7832\n",
       "  MGC126064         7832\n",
       "  TIS21             7832\n",
       "  Length: 71297, dtype: object,\n",
       "  'hgnc': MT-TF        HGNC:7481\n",
       "  MT-RNR1      HGNC:7470\n",
       "  MT-TV        HGNC:7500\n",
       "  MT-RNR2      HGNC:7471\n",
       "  MT-TL1       HGNC:7490\n",
       "                 ...    \n",
       "  Cav2.3       HGNC:1392\n",
       "  APRO1        HGNC:1131\n",
       "  MGC126063    HGNC:1131\n",
       "  MGC126064    HGNC:1131\n",
       "  TIS21        HGNC:1131\n",
       "  Length: 92290, dtype: object}}"
      ]
     },
     "execution_count": 5,
     "metadata": {},
     "output_type": "execute_result"
    }
   ],
   "source": []
  },
  {
   "cell_type": "code",
   "execution_count": 4,
   "id": "50d19aa8",
   "metadata": {
    "ExecuteTime": {
     "end_time": "2023-01-18T23:52:54.771469Z",
     "start_time": "2023-01-18T23:50:05.960469Z"
    },
    "hidden": true
   },
   "outputs": [
    {
     "name": "stderr",
     "output_type": "stream",
     "text": [
      "/Users/reema/Postdoc/Libs/biorosetta/data/ensembl.tsv: 31.8MiB [02:42, 205kiB/s] \n"
     ]
    }
   ],
   "source": [
    "br.EnsemblBiomartMapper.download_data()"
   ]
  },
  {
   "cell_type": "code",
   "execution_count": null,
   "id": "4ddba42b",
   "metadata": {
    "hidden": true
   },
   "outputs": [],
   "source": [
    "idm()"
   ]
  },
  {
   "cell_type": "markdown",
   "id": "7264ee55",
   "metadata": {},
   "source": [
    "# MyGene"
   ]
  },
  {
   "cell_type": "code",
   "execution_count": 4,
   "id": "0156caba",
   "metadata": {
    "ExecuteTime": {
     "end_time": "2023-01-19T01:19:28.645103Z",
     "start_time": "2023-01-19T01:19:28.641730Z"
    }
   },
   "outputs": [],
   "source": [
    "from biothings_client import get_client"
   ]
  },
  {
   "cell_type": "code",
   "execution_count": 5,
   "id": "7c8e1763",
   "metadata": {
    "ExecuteTime": {
     "end_time": "2023-01-19T01:19:34.902933Z",
     "start_time": "2023-01-19T01:19:34.897147Z"
    }
   },
   "outputs": [],
   "source": [
    "mg = get_client('gene')"
   ]
  },
  {
   "cell_type": "code",
   "execution_count": 6,
   "id": "e595268a",
   "metadata": {
    "ExecuteTime": {
     "end_time": "2023-01-19T01:19:52.518128Z",
     "start_time": "2023-01-19T01:19:52.514318Z"
    }
   },
   "outputs": [],
   "source": [
    "id_relabel = {'entr': 'entrezgene', 'symb': 'symbol', 'ensg': 'ensembl.gene'}"
   ]
  },
  {
   "cell_type": "code",
   "execution_count": 9,
   "id": "91ccab3f",
   "metadata": {
    "ExecuteTime": {
     "end_time": "2023-01-19T01:20:30.814527Z",
     "start_time": "2023-01-19T01:20:30.810253Z"
    }
   },
   "outputs": [],
   "source": [
    "id_list = ['ENSG00000159388']"
   ]
  },
  {
   "cell_type": "code",
   "execution_count": null,
   "id": "25ace96f",
   "metadata": {},
   "outputs": [],
   "source": [
    "br.HGNCBiomartMapper"
   ]
  },
  {
   "cell_type": "code",
   "execution_count": 49,
   "id": "3f9bab62",
   "metadata": {
    "ExecuteTime": {
     "end_time": "2023-01-20T00:43:35.828479Z",
     "start_time": "2023-01-20T00:43:35.386328Z"
    }
   },
   "outputs": [
    {
     "name": "stdout",
     "output_type": "stream",
     "text": [
      "- Loading lookup tables from cache\n"
     ]
    },
    {
     "data": {
      "text/plain": [
       "['ENSP00000433553|ENSP00000290551', 'ENSP00000497968', 'N/A']"
      ]
     },
     "execution_count": 49,
     "metadata": {},
     "output_type": "execute_result"
    }
   ],
   "source": [
    "idm = br.EnsemblBiomartMapper()\n",
    "idm.convert(['ENSG00000159388','ENSG00000112115','ENSG00000210049'],'ensg','ensp',multi_hits='all')"
   ]
  },
  {
   "cell_type": "code",
   "execution_count": 72,
   "id": "5735830c",
   "metadata": {
    "ExecuteTime": {
     "end_time": "2023-01-20T00:52:09.565258Z",
     "start_time": "2023-01-20T00:52:09.334119Z"
    }
   },
   "outputs": [
    {
     "data": {
      "text/html": [
       "<div>\n",
       "<style scoped>\n",
       "    .dataframe tbody tr th:only-of-type {\n",
       "        vertical-align: middle;\n",
       "    }\n",
       "\n",
       "    .dataframe tbody tr th {\n",
       "        vertical-align: top;\n",
       "    }\n",
       "\n",
       "    .dataframe thead th {\n",
       "        text-align: right;\n",
       "    }\n",
       "</style>\n",
       "<table border=\"1\" class=\"dataframe\">\n",
       "  <thead>\n",
       "    <tr style=\"text-align: right;\">\n",
       "      <th></th>\n",
       "      <th>ensp</th>\n",
       "    </tr>\n",
       "  </thead>\n",
       "  <tbody>\n",
       "  </tbody>\n",
       "</table>\n",
       "</div>"
      ],
      "text/plain": [
       "Empty DataFrame\n",
       "Columns: [ensp]\n",
       "Index: []"
      ]
     },
     "execution_count": 72,
     "metadata": {},
     "output_type": "execute_result"
    }
   ],
   "source": [
    "idm._sources[0]._data[['ensp']].dropna().pipe(lambda x: x[x.ensp.str.contains('\\|')])"
   ]
  },
  {
   "cell_type": "code",
   "execution_count": 8,
   "id": "0587b776",
   "metadata": {
    "ExecuteTime": {
     "end_time": "2023-01-20T01:02:48.213715Z",
     "start_time": "2023-01-20T01:02:48.195268Z"
    },
    "scrolled": true
   },
   "outputs": [
    {
     "data": {
      "text/plain": [
       "entr\n",
       "100037417               DDTL|DDT\n",
       "100132596                XGY2|XG\n",
       "100133251        PRR23D1|PRR23D2\n",
       "100169763         RNA5S3|RNA5S12\n",
       "100287596       DDX11L16|DDX11L2\n",
       "                    ...         \n",
       "729873            TBC1D3L|TBC1D3\n",
       "79008                SLX1A|SLX1B\n",
       "81399        OR4F3|OR4F29|OR4F16\n",
       "8293               SERF1B|SERF1A\n",
       "89838              ULK4P2|ULK4P1\n",
       "Length: 503, dtype: object"
      ]
     },
     "execution_count": 8,
     "metadata": {},
     "output_type": "execute_result"
    }
   ],
   "source": [
    "idm._sources[0]._lookup['entr']['symb'].pipe(lambda x: x[x.str.contains('\\|')])"
   ]
  },
  {
   "cell_type": "code",
   "execution_count": 5,
   "id": "074e4243",
   "metadata": {
    "ExecuteTime": {
     "end_time": "2023-01-20T01:02:18.127239Z",
     "start_time": "2023-01-20T01:02:16.104365Z"
    }
   },
   "outputs": [
    {
     "name": "stdout",
     "output_type": "stream",
     "text": [
      "- Loading lookup tables from cache\n",
      "- Loading lookup tables from cache\n",
      "querying 1-4...done.\n"
     ]
    },
    {
     "name": "stderr",
     "output_type": "stream",
     "text": [
      "/Users/reema/Postdoc/Libs/biorosetta/biorosetta/classes.py:259: FutureWarning: In a future version, `df.iloc[:, i] = newvals` will attempt to set the values inplace instead of always setting a new array. To retain the old behavior, use either `df[df.columns[i]] = newvals` or, if columns are non-unique, `df.isetitem(i, newvals)`\n",
      "  out_df.loc[out_df[src_id] != 'N/A', f'{src_id}_hits'] = out_df[src_id].str.split('|').apply(lambda x: len(x))\n",
      "/Users/reema/Postdoc/Libs/biorosetta/biorosetta/classes.py:259: FutureWarning: In a future version, `df.iloc[:, i] = newvals` will attempt to set the values inplace instead of always setting a new array. To retain the old behavior, use either `df[df.columns[i]] = newvals` or, if columns are non-unique, `df.isetitem(i, newvals)`\n",
      "  out_df.loc[out_df[src_id] != 'N/A', f'{src_id}_hits'] = out_df[src_id].str.split('|').apply(lambda x: len(x))\n"
     ]
    },
    {
     "data": {
      "text/html": [
       "<div>\n",
       "<style scoped>\n",
       "    .dataframe tbody tr th:only-of-type {\n",
       "        vertical-align: middle;\n",
       "    }\n",
       "\n",
       "    .dataframe tbody tr th {\n",
       "        vertical-align: top;\n",
       "    }\n",
       "\n",
       "    .dataframe thead th {\n",
       "        text-align: right;\n",
       "    }\n",
       "</style>\n",
       "<table border=\"1\" class=\"dataframe\">\n",
       "  <thead>\n",
       "    <tr style=\"text-align: right;\">\n",
       "      <th></th>\n",
       "      <th>input</th>\n",
       "      <th>output</th>\n",
       "      <th>ensembl</th>\n",
       "      <th>hgnc</th>\n",
       "      <th>mygene</th>\n",
       "      <th>mismatch</th>\n",
       "      <th>ensembl_hits</th>\n",
       "      <th>hgnc_hits</th>\n",
       "      <th>mygene_hits</th>\n",
       "    </tr>\n",
       "  </thead>\n",
       "  <tbody>\n",
       "    <tr>\n",
       "      <th>0</th>\n",
       "      <td>ENSG00000159388</td>\n",
       "      <td>BTG2</td>\n",
       "      <td>BTG2</td>\n",
       "      <td>BTG2</td>\n",
       "      <td>BTG2</td>\n",
       "      <td>True</td>\n",
       "      <td>1</td>\n",
       "      <td>1.0</td>\n",
       "      <td>1</td>\n",
       "    </tr>\n",
       "    <tr>\n",
       "      <th>1</th>\n",
       "      <td>ENSG00000157335</td>\n",
       "      <td>CLEC18C</td>\n",
       "      <td>CLEC18C</td>\n",
       "      <td>CLEC18C</td>\n",
       "      <td>CLEC18C</td>\n",
       "      <td>True</td>\n",
       "      <td>1</td>\n",
       "      <td>1.0</td>\n",
       "      <td>1</td>\n",
       "    </tr>\n",
       "    <tr>\n",
       "      <th>2</th>\n",
       "      <td>ENSG00000285285</td>\n",
       "      <td>RNA5S2</td>\n",
       "      <td>RNA5S2</td>\n",
       "      <td>N/A</td>\n",
       "      <td>RNA5S2</td>\n",
       "      <td>True</td>\n",
       "      <td>1</td>\n",
       "      <td>0.0</td>\n",
       "      <td>1</td>\n",
       "    </tr>\n",
       "    <tr>\n",
       "      <th>3</th>\n",
       "      <td>ENSG00000152926</td>\n",
       "      <td>ZNF117</td>\n",
       "      <td>ZNF117</td>\n",
       "      <td>ZNF117</td>\n",
       "      <td>ZNF117</td>\n",
       "      <td>True</td>\n",
       "      <td>1</td>\n",
       "      <td>1.0</td>\n",
       "      <td>1</td>\n",
       "    </tr>\n",
       "  </tbody>\n",
       "</table>\n",
       "</div>"
      ],
      "text/plain": [
       "             input   output  ensembl     hgnc   mygene  mismatch  \\\n",
       "0  ENSG00000159388     BTG2     BTG2     BTG2     BTG2      True   \n",
       "1  ENSG00000157335  CLEC18C  CLEC18C  CLEC18C  CLEC18C      True   \n",
       "2  ENSG00000285285   RNA5S2   RNA5S2      N/A   RNA5S2      True   \n",
       "3  ENSG00000152926   ZNF117   ZNF117   ZNF117   ZNF117      True   \n",
       "\n",
       "   ensembl_hits  hgnc_hits  mygene_hits  \n",
       "0             1        1.0            1  \n",
       "1             1        1.0            1  \n",
       "2             1        0.0            1  \n",
       "3             1        1.0            1  "
      ]
     },
     "execution_count": 5,
     "metadata": {},
     "output_type": "execute_result"
    }
   ],
   "source": [
    "idm = br.get_mapper('all')\n",
    "idm.convert(['ENSG00000159388','ENSG00000157335','ENSG00000285285','ENSG00000152926'],'ensg','symb',multi_hits='all',df=True)"
   ]
  },
  {
   "cell_type": "code",
   "execution_count": 11,
   "id": "8ee1a6d8",
   "metadata": {
    "ExecuteTime": {
     "end_time": "2023-01-20T01:03:51.364576Z",
     "start_time": "2023-01-20T01:03:49.571593Z"
    }
   },
   "outputs": [
    {
     "name": "stdout",
     "output_type": "stream",
     "text": [
      "- Loading lookup tables from cache\n",
      "- Loading lookup tables from cache\n",
      "querying 1-3...done.\n"
     ]
    },
    {
     "name": "stderr",
     "output_type": "stream",
     "text": [
      "/Users/reema/Postdoc/Libs/biorosetta/biorosetta/classes.py:259: FutureWarning: In a future version, `df.iloc[:, i] = newvals` will attempt to set the values inplace instead of always setting a new array. To retain the old behavior, use either `df[df.columns[i]] = newvals` or, if columns are non-unique, `df.isetitem(i, newvals)`\n",
      "  out_df.loc[out_df[src_id] != 'N/A', f'{src_id}_hits'] = out_df[src_id].str.split('|').apply(lambda x: len(x))\n",
      "/Users/reema/Postdoc/Libs/biorosetta/biorosetta/classes.py:259: FutureWarning: In a future version, `df.iloc[:, i] = newvals` will attempt to set the values inplace instead of always setting a new array. To retain the old behavior, use either `df[df.columns[i]] = newvals` or, if columns are non-unique, `df.isetitem(i, newvals)`\n",
      "  out_df.loc[out_df[src_id] != 'N/A', f'{src_id}_hits'] = out_df[src_id].str.split('|').apply(lambda x: len(x))\n",
      "/Users/reema/Postdoc/Libs/biorosetta/biorosetta/classes.py:259: FutureWarning: In a future version, `df.iloc[:, i] = newvals` will attempt to set the values inplace instead of always setting a new array. To retain the old behavior, use either `df[df.columns[i]] = newvals` or, if columns are non-unique, `df.isetitem(i, newvals)`\n",
      "  out_df.loc[out_df[src_id] != 'N/A', f'{src_id}_hits'] = out_df[src_id].str.split('|').apply(lambda x: len(x))\n"
     ]
    },
    {
     "data": {
      "text/html": [
       "<div>\n",
       "<style scoped>\n",
       "    .dataframe tbody tr th:only-of-type {\n",
       "        vertical-align: middle;\n",
       "    }\n",
       "\n",
       "    .dataframe tbody tr th {\n",
       "        vertical-align: top;\n",
       "    }\n",
       "\n",
       "    .dataframe thead th {\n",
       "        text-align: right;\n",
       "    }\n",
       "</style>\n",
       "<table border=\"1\" class=\"dataframe\">\n",
       "  <thead>\n",
       "    <tr style=\"text-align: right;\">\n",
       "      <th></th>\n",
       "      <th>input</th>\n",
       "      <th>output</th>\n",
       "      <th>ensembl</th>\n",
       "      <th>hgnc</th>\n",
       "      <th>mygene</th>\n",
       "      <th>mismatch</th>\n",
       "      <th>ensembl_hits</th>\n",
       "      <th>hgnc_hits</th>\n",
       "      <th>mygene_hits</th>\n",
       "    </tr>\n",
       "  </thead>\n",
       "  <tbody>\n",
       "    <tr>\n",
       "      <th>0</th>\n",
       "      <td>100132596</td>\n",
       "      <td>XGY2</td>\n",
       "      <td>XGY2</td>\n",
       "      <td>XGY2</td>\n",
       "      <td>XGY2</td>\n",
       "      <td>True</td>\n",
       "      <td>1</td>\n",
       "      <td>1</td>\n",
       "      <td>1</td>\n",
       "    </tr>\n",
       "    <tr>\n",
       "      <th>1</th>\n",
       "      <td>81399</td>\n",
       "      <td>OR4F3</td>\n",
       "      <td>OR4F3</td>\n",
       "      <td>OR4F16</td>\n",
       "      <td>OR4F16</td>\n",
       "      <td>True</td>\n",
       "      <td>1</td>\n",
       "      <td>1</td>\n",
       "      <td>1</td>\n",
       "    </tr>\n",
       "    <tr>\n",
       "      <th>2</th>\n",
       "      <td>8293</td>\n",
       "      <td>SERF1B</td>\n",
       "      <td>SERF1B</td>\n",
       "      <td>SERF1A</td>\n",
       "      <td>SERF1A</td>\n",
       "      <td>True</td>\n",
       "      <td>1</td>\n",
       "      <td>1</td>\n",
       "      <td>1</td>\n",
       "    </tr>\n",
       "  </tbody>\n",
       "</table>\n",
       "</div>"
      ],
      "text/plain": [
       "       input  output ensembl    hgnc  mygene  mismatch  ensembl_hits  \\\n",
       "0  100132596    XGY2    XGY2    XGY2    XGY2      True             1   \n",
       "1      81399   OR4F3   OR4F3  OR4F16  OR4F16      True             1   \n",
       "2       8293  SERF1B  SERF1B  SERF1A  SERF1A      True             1   \n",
       "\n",
       "   hgnc_hits  mygene_hits  \n",
       "0          1            1  \n",
       "1          1            1  \n",
       "2          1            1  "
      ]
     },
     "execution_count": 11,
     "metadata": {},
     "output_type": "execute_result"
    }
   ],
   "source": [
    "idm = br.get_mapper('all')\n",
    "idm.convert(['100132596','81399','8293'],'entr','symb',multi_hits='first',df=True)"
   ]
  },
  {
   "cell_type": "code",
   "execution_count": 15,
   "id": "4da04952",
   "metadata": {
    "ExecuteTime": {
     "end_time": "2023-01-19T01:21:00.726533Z",
     "start_time": "2023-01-19T01:20:59.251431Z"
    }
   },
   "outputs": [
    {
     "name": "stdout",
     "output_type": "stream",
     "text": [
      "querying 1-1...done.\n"
     ]
    }
   ],
   "source": [
    "output = mg.getgenes(id_list, scopes=id_relabel['ensg'], fields='*', species='human', as_dataframe=True, returnall=False)"
   ]
  },
  {
   "cell_type": "code",
   "execution_count": 38,
   "id": "8bceafa5",
   "metadata": {
    "ExecuteTime": {
     "end_time": "2023-01-19T01:26:40.030133Z",
     "start_time": "2023-01-19T01:26:38.817858Z"
    }
   },
   "outputs": [
    {
     "name": "stdout",
     "output_type": "stream",
     "text": [
      "querying 1-1...done.\n"
     ]
    },
    {
     "data": {
      "text/html": [
       "<div>\n",
       "<style scoped>\n",
       "    .dataframe tbody tr th:only-of-type {\n",
       "        vertical-align: middle;\n",
       "    }\n",
       "\n",
       "    .dataframe tbody tr th {\n",
       "        vertical-align: top;\n",
       "    }\n",
       "\n",
       "    .dataframe thead th {\n",
       "        text-align: right;\n",
       "    }\n",
       "</style>\n",
       "<table border=\"1\" class=\"dataframe\">\n",
       "  <thead>\n",
       "    <tr style=\"text-align: right;\">\n",
       "      <th></th>\n",
       "      <th>notfound</th>\n",
       "    </tr>\n",
       "    <tr>\n",
       "      <th>query</th>\n",
       "      <th></th>\n",
       "    </tr>\n",
       "  </thead>\n",
       "  <tbody>\n",
       "    <tr>\n",
       "      <th>ENSP00000433553</th>\n",
       "      <td>True</td>\n",
       "    </tr>\n",
       "  </tbody>\n",
       "</table>\n",
       "</div>"
      ],
      "text/plain": [
       "                 notfound\n",
       "query                    \n",
       "ENSP00000433553      True"
      ]
     },
     "execution_count": 38,
     "metadata": {},
     "output_type": "execute_result"
    }
   ],
   "source": [
    "output = mg.getgenes(['ENSP00000433553'], scopes='ensembl.protein', fields='*', species='human', as_dataframe=True, returnall=False)\n",
    "output"
   ]
  },
  {
   "cell_type": "code",
   "execution_count": 37,
   "id": "3af24fc4",
   "metadata": {
    "ExecuteTime": {
     "end_time": "2023-01-19T01:26:35.472409Z",
     "start_time": "2023-01-19T01:26:35.465194Z"
    }
   },
   "outputs": [
    {
     "data": {
      "text/html": [
       "<div>\n",
       "<style scoped>\n",
       "    .dataframe tbody tr th:only-of-type {\n",
       "        vertical-align: middle;\n",
       "    }\n",
       "\n",
       "    .dataframe tbody tr th {\n",
       "        vertical-align: top;\n",
       "    }\n",
       "\n",
       "    .dataframe thead th {\n",
       "        text-align: right;\n",
       "    }\n",
       "</style>\n",
       "<table border=\"1\" class=\"dataframe\">\n",
       "  <thead>\n",
       "    <tr style=\"text-align: right;\">\n",
       "      <th></th>\n",
       "      <th>notfound</th>\n",
       "    </tr>\n",
       "    <tr>\n",
       "      <th>query</th>\n",
       "      <th></th>\n",
       "    </tr>\n",
       "  </thead>\n",
       "  <tbody>\n",
       "    <tr>\n",
       "      <th>ENSP00000433553</th>\n",
       "      <td>True</td>\n",
       "    </tr>\n",
       "  </tbody>\n",
       "</table>\n",
       "</div>"
      ],
      "text/plain": [
       "                 notfound\n",
       "query                    \n",
       "ENSP00000433553      True"
      ]
     },
     "execution_count": 37,
     "metadata": {},
     "output_type": "execute_result"
    }
   ],
   "source": []
  },
  {
   "cell_type": "code",
   "execution_count": 22,
   "id": "289e3318",
   "metadata": {
    "ExecuteTime": {
     "end_time": "2023-01-19T01:22:47.552092Z",
     "start_time": "2023-01-19T01:22:47.546068Z"
    }
   },
   "outputs": [
    {
     "data": {
      "text/plain": [
       "query\n",
       "ENSG00000159388    1131\n",
       "Name: HGNC, dtype: object"
      ]
     },
     "execution_count": 22,
     "metadata": {},
     "output_type": "execute_result"
    }
   ],
   "source": [
    "output['HGNC']"
   ]
  },
  {
   "cell_type": "code",
   "execution_count": 19,
   "id": "a217753d",
   "metadata": {
    "ExecuteTime": {
     "end_time": "2023-01-19T01:21:11.869063Z",
     "start_time": "2023-01-19T01:21:11.861583Z"
    }
   },
   "outputs": [
    {
     "data": {
      "text/plain": [
       "['AllianceGenome',\n",
       " 'HGNC',\n",
       " 'MIM',\n",
       " '_id',\n",
       " '_version',\n",
       " 'alias',\n",
       " 'entrezgene',\n",
       " 'exons',\n",
       " 'exons_hg19',\n",
       " 'generif',\n",
       " 'ipi',\n",
       " 'map_location',\n",
       " 'name',\n",
       " 'other_names',\n",
       " 'pdb',\n",
       " 'pfam',\n",
       " 'pharmgkb',\n",
       " 'summary',\n",
       " 'symbol',\n",
       " 'taxid',\n",
       " 'type_of_gene',\n",
       " 'unigene',\n",
       " 'accession.genomic',\n",
       " 'accession.protein',\n",
       " 'accession.rna',\n",
       " 'accession.translation',\n",
       " 'ensembl.gene',\n",
       " 'ensembl.protein',\n",
       " 'ensembl.transcript',\n",
       " 'ensembl.translation',\n",
       " 'ensembl.type_of_gene',\n",
       " 'exac._license',\n",
       " 'exac.all.exp_lof',\n",
       " 'exac.all.exp_mis',\n",
       " 'exac.all.exp_syn',\n",
       " 'exac.all.lof_z',\n",
       " 'exac.all.mis_z',\n",
       " 'exac.all.mu_lof',\n",
       " 'exac.all.mu_mis',\n",
       " 'exac.all.mu_syn',\n",
       " 'exac.all.n_lof',\n",
       " 'exac.all.n_mis',\n",
       " 'exac.all.n_syn',\n",
       " 'exac.all.p_li',\n",
       " 'exac.all.p_null',\n",
       " 'exac.all.p_rec',\n",
       " 'exac.all.syn_z',\n",
       " 'exac.bp',\n",
       " 'exac.cds_end',\n",
       " 'exac.cds_start',\n",
       " 'exac.n_exons',\n",
       " 'exac.nonpsych.exp_lof',\n",
       " 'exac.nonpsych.exp_mis',\n",
       " 'exac.nonpsych.exp_syn',\n",
       " 'exac.nonpsych.lof_z',\n",
       " 'exac.nonpsych.mis_z',\n",
       " 'exac.nonpsych.mu_lof',\n",
       " 'exac.nonpsych.mu_mis',\n",
       " 'exac.nonpsych.mu_syn',\n",
       " 'exac.nonpsych.n_lof',\n",
       " 'exac.nonpsych.n_mis',\n",
       " 'exac.nonpsych.n_syn',\n",
       " 'exac.nonpsych.p_li',\n",
       " 'exac.nonpsych.p_null',\n",
       " 'exac.nonpsych.p_rec',\n",
       " 'exac.nonpsych.syn_z',\n",
       " 'exac.nontcga.exp_lof',\n",
       " 'exac.nontcga.exp_mis',\n",
       " 'exac.nontcga.exp_syn',\n",
       " 'exac.nontcga.lof_z',\n",
       " 'exac.nontcga.mis_z',\n",
       " 'exac.nontcga.mu_lof',\n",
       " 'exac.nontcga.mu_mis',\n",
       " 'exac.nontcga.mu_syn',\n",
       " 'exac.nontcga.n_lof',\n",
       " 'exac.nontcga.n_mis',\n",
       " 'exac.nontcga.n_syn',\n",
       " 'exac.nontcga.p_li',\n",
       " 'exac.nontcga.p_null',\n",
       " 'exac.nontcga.p_rec',\n",
       " 'exac.nontcga.syn_z',\n",
       " 'exac.transcript',\n",
       " 'genomic_pos.chr',\n",
       " 'genomic_pos.end',\n",
       " 'genomic_pos.ensemblgene',\n",
       " 'genomic_pos.start',\n",
       " 'genomic_pos.strand',\n",
       " 'genomic_pos_hg19.chr',\n",
       " 'genomic_pos_hg19.end',\n",
       " 'genomic_pos_hg19.start',\n",
       " 'genomic_pos_hg19.strand',\n",
       " 'go.BP',\n",
       " 'go.CC',\n",
       " 'go.MF',\n",
       " 'homologene.genes',\n",
       " 'homologene.id',\n",
       " 'interpro.desc',\n",
       " 'interpro.id',\n",
       " 'interpro.short_desc',\n",
       " 'pantherdb.HGNC',\n",
       " 'pantherdb._license',\n",
       " 'pantherdb.ortholog',\n",
       " 'pantherdb.uniprot_kb',\n",
       " 'pathway.biocarta.id',\n",
       " 'pathway.biocarta.name',\n",
       " 'pathway.kegg.id',\n",
       " 'pathway.kegg.name',\n",
       " 'pathway.pid.id',\n",
       " 'pathway.pid.name',\n",
       " 'pathway.reactome',\n",
       " 'pathway.wikipathways',\n",
       " 'pharos.target_id',\n",
       " 'reagent.CondMedia_CM_LibrAB.id',\n",
       " 'reagent.CondMedia_CM_LibrAB.relationship',\n",
       " 'reagent.GNF_Qia_hs-genome_v1_siRNA',\n",
       " 'reagent.GNF_hs-Origene.id',\n",
       " 'reagent.GNF_hs-Origene.relationship',\n",
       " 'reagent.GNF_mm+hs-MGC',\n",
       " 'reagent.NIBRI_hs-Secretome_pDEST.id',\n",
       " 'reagent.NIBRI_hs-Secretome_pDEST.relationship',\n",
       " 'reagent.NOVART_hs-genome_siRNA',\n",
       " 'refseq.genomic',\n",
       " 'refseq.protein',\n",
       " 'refseq.rna',\n",
       " 'refseq.translation.protein',\n",
       " 'refseq.translation.rna',\n",
       " 'reporter.HG-U133_Plus_2',\n",
       " 'reporter.HG-U95Av2',\n",
       " 'reporter.HTA-2_0',\n",
       " 'reporter.HuEx-1_0',\n",
       " 'reporter.HuGene-1_1',\n",
       " 'reporter.HuGene-2_1',\n",
       " 'umls.cui',\n",
       " 'uniprot.Swiss-Prot',\n",
       " 'wikipedia.url_stub']"
      ]
     },
     "execution_count": 19,
     "metadata": {},
     "output_type": "execute_result"
    }
   ],
   "source": [
    "output.columns.tolist()"
   ]
  },
  {
   "cell_type": "code",
   "execution_count": null,
   "id": "0bcf3f0f",
   "metadata": {},
   "outputs": [],
   "source": []
  }
 ],
 "metadata": {
  "kernelspec": {
   "display_name": "biorosetta",
   "language": "python",
   "name": "biorosetta"
  },
  "language_info": {
   "codemirror_mode": {
    "name": "ipython",
    "version": 3
   },
   "file_extension": ".py",
   "mimetype": "text/x-python",
   "name": "python",
   "nbconvert_exporter": "python",
   "pygments_lexer": "ipython3",
   "version": "3.10.6"
  },
  "toc": {
   "base_numbering": 1,
   "nav_menu": {},
   "number_sections": true,
   "sideBar": true,
   "skip_h1_title": false,
   "title_cell": "Table of Contents",
   "title_sidebar": "Contents",
   "toc_cell": false,
   "toc_position": {},
   "toc_section_display": true,
   "toc_window_display": false
  }
 },
 "nbformat": 4,
 "nbformat_minor": 5
}
